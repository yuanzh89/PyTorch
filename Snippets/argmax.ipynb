{
 "cells": [
  {
   "cell_type": "code",
   "id": "initial_id",
   "metadata": {
    "collapsed": true,
    "ExecuteTime": {
     "end_time": "2025-09-19T23:50:07.683134Z",
     "start_time": "2025-09-19T23:50:05.345296Z"
    }
   },
   "source": "import torch",
   "outputs": [],
   "execution_count": 1
  },
  {
   "metadata": {
    "ExecuteTime": {
     "end_time": "2025-09-19T23:50:07.716135Z",
     "start_time": "2025-09-19T23:50:07.688746Z"
    }
   },
   "cell_type": "code",
   "source": [
    "tensor = torch.tensor([[1, 5, 2], [8, 3, 7]])\n",
    "\n",
    "# Finds the argmax across the entire tensor (flattened)\n",
    "argmax_all = torch.argmax(tensor)\n",
    "print(f\"Argmax of the entire tensor: {argmax_all}\")\n",
    "\n",
    "# Finds the argmax along dimension 0 (columns)\n",
    "argmax_dim0 = torch.argmax(tensor, dim=0)\n",
    "print(f\"Argmax along dimension 0: {argmax_dim0}\")\n",
    "\n",
    "# Finds the argmax along dimension 1 (rows)\n",
    "argmax_dim1 = torch.argmax(tensor, dim=1)\n",
    "print(f\"Argmax along dimension 1: {argmax_dim1}\")\n",
    "\n",
    "# Finds the argmax along dimension 1 and keep the dimension\n",
    "argmax_keepdim = torch.argmax(tensor, dim=1, keepdim=True)\n",
    "print(f\"Argmax along dimension 1 with keepdim=True: {argmax_keepdim}\")"
   ],
   "id": "4a876d6119e317e",
   "outputs": [
    {
     "name": "stdout",
     "output_type": "stream",
     "text": [
      "Argmax of the entire tensor: 3\n",
      "Argmax along dimension 0: tensor([1, 0, 1])\n",
      "Argmax along dimension 1: tensor([1, 0])\n",
      "Argmax along dimension 1 with keepdim=True: tensor([[1],\n",
      "        [0]])\n"
     ]
    }
   ],
   "execution_count": 2
  }
 ],
 "metadata": {
  "kernelspec": {
   "display_name": "Python 3",
   "language": "python",
   "name": "python3"
  },
  "language_info": {
   "codemirror_mode": {
    "name": "ipython",
    "version": 2
   },
   "file_extension": ".py",
   "mimetype": "text/x-python",
   "name": "python",
   "nbconvert_exporter": "python",
   "pygments_lexer": "ipython2",
   "version": "2.7.6"
  }
 },
 "nbformat": 4,
 "nbformat_minor": 5
}
