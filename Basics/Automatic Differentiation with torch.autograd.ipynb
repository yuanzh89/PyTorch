{
 "cells": [
  {
   "cell_type": "code",
   "id": "initial_id",
   "metadata": {
    "collapsed": true,
    "ExecuteTime": {
     "end_time": "2025-08-18T06:35:14.438427Z",
     "start_time": "2025-08-18T06:35:14.432493Z"
    }
   },
   "source": [
    "import torch\n",
    "\n",
    "x = torch.ones(5)\n",
    "y = torch.zeros(3)\n",
    "w = torch.randn(5, 3, requires_grad=True)  # Or w.requires_grad_(True)\n",
    "b = torch.randn(3, requires_grad=True)  # Or b.requires_grad_(True)\n",
    "z = torch.matmul(x, w)\n",
    "\n",
    "loss = torch.nn.functional.binary_cross_entropy_with_logits(z, y)"
   ],
   "outputs": [],
   "execution_count": 2
  },
  {
   "metadata": {
    "ExecuteTime": {
     "end_time": "2025-08-18T06:35:14.452440Z",
     "start_time": "2025-08-18T06:35:14.448440Z"
    }
   },
   "cell_type": "code",
   "source": [
    "print(f\"Gradient function for z = {z.grad_fn}\")\n",
    "print(f\"Gradient function for loss = {loss.grad_fn}\")"
   ],
   "id": "3daf52366d5587fe",
   "outputs": [
    {
     "name": "stdout",
     "output_type": "stream",
     "text": [
      "Gradient function for z = <SqueezeBackward4 object at 0x00000244650D2050>\n",
      "Gradient function for loss = <BinaryCrossEntropyWithLogitsBackward0 object at 0x00000244650D2A40>\n"
     ]
    }
   ],
   "execution_count": 3
  },
  {
   "metadata": {
    "ExecuteTime": {
     "end_time": "2025-08-18T06:35:14.549506Z",
     "start_time": "2025-08-18T06:35:14.492144Z"
    }
   },
   "cell_type": "code",
   "source": [
    "loss.backward()\n",
    "print(w.grad)\n",
    "print(b.grad)"
   ],
   "id": "16cfaaa268a04dae",
   "outputs": [
    {
     "name": "stdout",
     "output_type": "stream",
     "text": [
      "tensor([[0.2591, 0.1047, 0.2985],\n",
      "        [0.2591, 0.1047, 0.2985],\n",
      "        [0.2591, 0.1047, 0.2985],\n",
      "        [0.2591, 0.1047, 0.2985],\n",
      "        [0.2591, 0.1047, 0.2985]])\n",
      "None\n"
     ]
    }
   ],
   "execution_count": 4
  },
  {
   "metadata": {
    "ExecuteTime": {
     "end_time": "2025-08-18T06:35:14.558022Z",
     "start_time": "2025-08-18T06:35:14.554508Z"
    }
   },
   "cell_type": "code",
   "source": [
    "z = torch.matmul(x, w) + b\n",
    "print(z.requires_grad)\n",
    "\n",
    "with torch.no_grad():\n",
    "    z = torch.matmul(x, w) + b\n",
    "print(z.requires_grad)"
   ],
   "id": "a2480d6bc54fa820",
   "outputs": [
    {
     "name": "stdout",
     "output_type": "stream",
     "text": [
      "True\n",
      "False\n"
     ]
    }
   ],
   "execution_count": 5
  }
 ],
 "metadata": {
  "kernelspec": {
   "display_name": "Python 3",
   "language": "python",
   "name": "python3"
  },
  "language_info": {
   "codemirror_mode": {
    "name": "ipython",
    "version": 2
   },
   "file_extension": ".py",
   "mimetype": "text/x-python",
   "name": "python",
   "nbconvert_exporter": "python",
   "pygments_lexer": "ipython2",
   "version": "2.7.6"
  }
 },
 "nbformat": 4,
 "nbformat_minor": 5
}
