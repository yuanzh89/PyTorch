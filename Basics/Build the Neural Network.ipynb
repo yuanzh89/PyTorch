{
 "cells": [
  {
   "cell_type": "code",
   "id": "initial_id",
   "metadata": {
    "collapsed": true,
    "ExecuteTime": {
     "end_time": "2025-08-16T06:38:41.105294Z",
     "start_time": "2025-08-16T06:38:41.098195Z"
    }
   },
   "source": [
    "import os\n",
    "import torch\n",
    "from numpy.ma.extras import flatnotmasked_edges\n",
    "from torch import nn\n",
    "from torch.utils.data import DataLoader\n",
    "from torchvision import datasets, transforms"
   ],
   "outputs": [],
   "execution_count": 10
  },
  {
   "metadata": {
    "ExecuteTime": {
     "end_time": "2025-08-16T06:38:41.118591Z",
     "start_time": "2025-08-16T06:38:41.115539Z"
    }
   },
   "cell_type": "code",
   "source": [
    "device = torch.accelerator.current_accelerator() if torch.accelerator.is_available() else \"cpu\"\n",
    "print(f\"Using {device} device\")"
   ],
   "id": "750c3a4b23452887",
   "outputs": [
    {
     "name": "stdout",
     "output_type": "stream",
     "text": [
      "Using cuda device\n"
     ]
    }
   ],
   "execution_count": 11
  },
  {
   "metadata": {
    "ExecuteTime": {
     "end_time": "2025-08-16T06:38:41.127695Z",
     "start_time": "2025-08-16T06:38:41.124694Z"
    }
   },
   "cell_type": "code",
   "source": [
    "class NeuralNetwork(nn.Module):\n",
    "    def __init__(self):\n",
    "        super().__init__()\n",
    "        self.flatten = nn.Flatten()\n",
    "        self.linear_relu_stack = nn.Sequential(\n",
    "            nn.Linear(28 * 28, 512),\n",
    "            nn.ReLU(),\n",
    "            nn.Linear(512, 512),\n",
    "            nn.ReLU(),\n",
    "            nn.Linear(512, 10),\n",
    "        )\n",
    "\n",
    "    def forward(self, x):\n",
    "        x = self.flatten(x)\n",
    "        logits = self.linear_relu_stack(x)\n",
    "        return logits"
   ],
   "id": "fe094e745f720ff2",
   "outputs": [],
   "execution_count": 12
  },
  {
   "metadata": {
    "ExecuteTime": {
     "end_time": "2025-08-16T06:38:41.139638Z",
     "start_time": "2025-08-16T06:38:41.132825Z"
    }
   },
   "cell_type": "code",
   "source": [
    "model = NeuralNetwork().to(device)\n",
    "print(model)"
   ],
   "id": "4344d2a19f4e2140",
   "outputs": [
    {
     "name": "stdout",
     "output_type": "stream",
     "text": [
      "NeuralNetwork(\n",
      "  (flatten): Flatten(start_dim=1, end_dim=-1)\n",
      "  (linear_relu_stack): Sequential(\n",
      "    (0): Linear(in_features=784, out_features=512, bias=True)\n",
      "    (1): ReLU()\n",
      "    (2): Linear(in_features=512, out_features=512, bias=True)\n",
      "    (3): ReLU()\n",
      "    (4): Linear(in_features=512, out_features=10, bias=True)\n",
      "  )\n",
      ")\n"
     ]
    }
   ],
   "execution_count": 13
  },
  {
   "metadata": {
    "ExecuteTime": {
     "end_time": "2025-08-16T06:38:41.152237Z",
     "start_time": "2025-08-16T06:38:41.147738Z"
    }
   },
   "cell_type": "code",
   "source": [
    "X = torch.rand(1, 28, 28, device=device)\n",
    "logits = model(X)\n",
    "pred_probab = nn.Softmax(dim=1)(logits)\n",
    "y_pred = pred_probab.argmax(1)\n",
    "print(f\"Predicted class: {y_pred}\")"
   ],
   "id": "9c2faf0fac8eb947",
   "outputs": [
    {
     "name": "stdout",
     "output_type": "stream",
     "text": [
      "Predicted class: tensor([0], device='cuda:0')\n"
     ]
    }
   ],
   "execution_count": 14
  },
  {
   "metadata": {
    "ExecuteTime": {
     "end_time": "2025-08-16T06:38:41.159241Z",
     "start_time": "2025-08-16T06:38:41.156241Z"
    }
   },
   "cell_type": "code",
   "source": [
    "input_image = torch.rand(3, 28, 28)\n",
    "print(input_image.size())"
   ],
   "id": "77f7665ad316edac",
   "outputs": [
    {
     "name": "stdout",
     "output_type": "stream",
     "text": [
      "torch.Size([3, 28, 28])\n"
     ]
    }
   ],
   "execution_count": 15
  },
  {
   "metadata": {
    "ExecuteTime": {
     "end_time": "2025-08-16T06:38:41.167794Z",
     "start_time": "2025-08-16T06:38:41.165409Z"
    }
   },
   "cell_type": "code",
   "source": [
    "flatten = nn.Flatten()\n",
    "flat_image = flatten(input_image)\n",
    "print(flat_image.size())"
   ],
   "id": "9a0024ca6af472e3",
   "outputs": [
    {
     "name": "stdout",
     "output_type": "stream",
     "text": [
      "torch.Size([3, 784])\n"
     ]
    }
   ],
   "execution_count": 16
  },
  {
   "metadata": {
    "ExecuteTime": {
     "end_time": "2025-08-16T06:38:41.179415Z",
     "start_time": "2025-08-16T06:38:41.173901Z"
    }
   },
   "cell_type": "code",
   "source": [
    "layer1 = nn.Linear(in_features=28*28, out_features=20)\n",
    "hidden1 = layer1(flat_image)\n",
    "print(hidden1.size())"
   ],
   "id": "8c82f298e94373db",
   "outputs": [
    {
     "name": "stdout",
     "output_type": "stream",
     "text": [
      "torch.Size([3, 20])\n"
     ]
    }
   ],
   "execution_count": 17
  },
  {
   "metadata": {
    "ExecuteTime": {
     "end_time": "2025-08-16T06:38:41.202278Z",
     "start_time": "2025-08-16T06:38:41.196146Z"
    }
   },
   "cell_type": "code",
   "source": [
    "print(f\"Before ReLU: {hidden1}\\n\\n\")\n",
    "hidden1 = nn.ReLU()(hidden1)\n",
    "print(f\"After ReLU: {hidden1}\")"
   ],
   "id": "3d602e895deb3f63",
   "outputs": [
    {
     "name": "stdout",
     "output_type": "stream",
     "text": [
      "Before ReLU: tensor([[-0.6985, -0.3226,  0.2009, -0.1947, -0.6699,  0.3477,  0.1068,  0.2630,\n",
      "         -0.4440,  0.1974,  0.0465,  0.0993,  0.3117, -0.4383, -0.3219, -0.7048,\n",
      "          0.1975, -0.0331,  0.1435, -0.1460],\n",
      "        [-0.3561, -0.2005,  0.3695, -0.6398, -0.7592,  0.3272, -0.1126,  0.1710,\n",
      "         -0.0993, -0.3750, -0.4531, -0.0061,  0.3905, -0.4217, -0.5734, -0.0493,\n",
      "          0.7544, -0.4081,  0.0057, -0.1913],\n",
      "        [-0.4483,  0.2660,  0.2850, -0.2098, -0.5690,  0.5371,  0.1765, -0.0798,\n",
      "         -0.2963, -0.0636, -0.2842,  0.1231,  0.2711, -0.5469, -0.5227, -0.4798,\n",
      "          0.2994, -0.2970, -0.1728,  0.1217]], grad_fn=<AddmmBackward0>)\n",
      "\n",
      "\n",
      "After ReLU: tensor([[0.0000, 0.0000, 0.2009, 0.0000, 0.0000, 0.3477, 0.1068, 0.2630, 0.0000,\n",
      "         0.1974, 0.0465, 0.0993, 0.3117, 0.0000, 0.0000, 0.0000, 0.1975, 0.0000,\n",
      "         0.1435, 0.0000],\n",
      "        [0.0000, 0.0000, 0.3695, 0.0000, 0.0000, 0.3272, 0.0000, 0.1710, 0.0000,\n",
      "         0.0000, 0.0000, 0.0000, 0.3905, 0.0000, 0.0000, 0.0000, 0.7544, 0.0000,\n",
      "         0.0057, 0.0000],\n",
      "        [0.0000, 0.2660, 0.2850, 0.0000, 0.0000, 0.5371, 0.1765, 0.0000, 0.0000,\n",
      "         0.0000, 0.0000, 0.1231, 0.2711, 0.0000, 0.0000, 0.0000, 0.2994, 0.0000,\n",
      "         0.0000, 0.1217]], grad_fn=<ReluBackward0>)\n"
     ]
    }
   ],
   "execution_count": 18
  },
  {
   "metadata": {
    "ExecuteTime": {
     "end_time": "2025-08-16T06:38:41.219341Z",
     "start_time": "2025-08-16T06:38:41.216390Z"
    }
   },
   "cell_type": "code",
   "source": [
    "seq_modules = nn.Sequential(\n",
    "    flatten,\n",
    "    layer1,\n",
    "    nn.ReLU(),\n",
    "    nn.Linear(20, 10)\n",
    ")\n",
    "input_image = torch.rand(3, 28, 28)\n",
    "logits = seq_modules(input_image)"
   ],
   "id": "a4030503f69a4b2",
   "outputs": [],
   "execution_count": 19
  },
  {
   "metadata": {
    "ExecuteTime": {
     "end_time": "2025-08-16T06:38:41.242682Z",
     "start_time": "2025-08-16T06:38:41.239569Z"
    }
   },
   "cell_type": "code",
   "source": [
    "softmax = nn.Softmax(dim=1)\n",
    "pred_probab = softmax(logits)"
   ],
   "id": "f177a69c78b0c6dd",
   "outputs": [],
   "execution_count": 20
  },
  {
   "metadata": {
    "ExecuteTime": {
     "end_time": "2025-08-16T06:38:41.267998Z",
     "start_time": "2025-08-16T06:38:41.247833Z"
    }
   },
   "cell_type": "code",
   "source": [
    "print(f\"Model structure: {model}\\n\\n\")\n",
    "\n",
    "for name, param in model.named_parameters():\n",
    "    print(f\"Layer: {name} | Size: {param.size()} | Values: {param[:2]} \\n\")"
   ],
   "id": "d574b1ddfac9adf1",
   "outputs": [
    {
     "name": "stdout",
     "output_type": "stream",
     "text": [
      "Model structure: NeuralNetwork(\n",
      "  (flatten): Flatten(start_dim=1, end_dim=-1)\n",
      "  (linear_relu_stack): Sequential(\n",
      "    (0): Linear(in_features=784, out_features=512, bias=True)\n",
      "    (1): ReLU()\n",
      "    (2): Linear(in_features=512, out_features=512, bias=True)\n",
      "    (3): ReLU()\n",
      "    (4): Linear(in_features=512, out_features=10, bias=True)\n",
      "  )\n",
      ")\n",
      "\n",
      "\n",
      "Layer: linear_relu_stack.0.weight | Size: torch.Size([512, 784]) | Values: tensor([[ 0.0229, -0.0140, -0.0136,  ...,  0.0354, -0.0044,  0.0004],\n",
      "        [-0.0311, -0.0138, -0.0007,  ...,  0.0074, -0.0216, -0.0252]],\n",
      "       device='cuda:0', grad_fn=<SliceBackward0>) \n",
      "\n",
      "Layer: linear_relu_stack.0.bias | Size: torch.Size([512]) | Values: tensor([-0.0203,  0.0081], device='cuda:0', grad_fn=<SliceBackward0>) \n",
      "\n",
      "Layer: linear_relu_stack.2.weight | Size: torch.Size([512, 512]) | Values: tensor([[ 0.0377,  0.0028, -0.0218,  ...,  0.0380, -0.0321, -0.0016],\n",
      "        [ 0.0236,  0.0203, -0.0118,  ...,  0.0139,  0.0103,  0.0275]],\n",
      "       device='cuda:0', grad_fn=<SliceBackward0>) \n",
      "\n",
      "Layer: linear_relu_stack.2.bias | Size: torch.Size([512]) | Values: tensor([-0.0106, -0.0100], device='cuda:0', grad_fn=<SliceBackward0>) \n",
      "\n",
      "Layer: linear_relu_stack.4.weight | Size: torch.Size([10, 512]) | Values: tensor([[ 0.0200,  0.0202, -0.0123,  ..., -0.0245, -0.0194,  0.0187],\n",
      "        [-0.0368, -0.0173,  0.0274,  ..., -0.0388, -0.0063,  0.0101]],\n",
      "       device='cuda:0', grad_fn=<SliceBackward0>) \n",
      "\n",
      "Layer: linear_relu_stack.4.bias | Size: torch.Size([10]) | Values: tensor([-0.0071, -0.0155], device='cuda:0', grad_fn=<SliceBackward0>) \n",
      "\n"
     ]
    }
   ],
   "execution_count": 21
  }
 ],
 "metadata": {
  "kernelspec": {
   "display_name": "Python 3",
   "language": "python",
   "name": "python3"
  },
  "language_info": {
   "codemirror_mode": {
    "name": "ipython",
    "version": 2
   },
   "file_extension": ".py",
   "mimetype": "text/x-python",
   "name": "python",
   "nbconvert_exporter": "python",
   "pygments_lexer": "ipython2",
   "version": "2.7.6"
  }
 },
 "nbformat": 4,
 "nbformat_minor": 5
}
