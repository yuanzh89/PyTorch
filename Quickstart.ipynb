{
 "cells": [
  {
   "cell_type": "code",
   "id": "initial_id",
   "metadata": {
    "collapsed": true,
    "ExecuteTime": {
     "end_time": "2025-08-15T22:14:03.703762Z",
     "start_time": "2025-08-15T22:14:03.701227Z"
    }
   },
   "source": [
    "import torch\n",
    "from torch import nn\n",
    "from torch.utils.data import DataLoader\n",
    "from torchvision import datasets\n",
    "from torchvision.transforms import ToTensor"
   ],
   "outputs": [],
   "execution_count": 19
  },
  {
   "metadata": {
    "ExecuteTime": {
     "end_time": "2025-08-15T22:14:03.735364Z",
     "start_time": "2025-08-15T22:14:03.715160Z"
    }
   },
   "cell_type": "code",
   "source": [
    "training_data = datasets.FashionMNIST(\n",
    "    root='data',\n",
    "    train=True,\n",
    "    download=True,\n",
    "    transform=ToTensor(),\n",
    ")\n",
    "\n",
    "test_data = datasets.FashionMNIST(\n",
    "    root='data',\n",
    "    train=False,\n",
    "    download=True,\n",
    "    transform=ToTensor(),\n",
    ")"
   ],
   "id": "4e037e8ddc67417d",
   "outputs": [],
   "execution_count": 20
  },
  {
   "metadata": {
    "ExecuteTime": {
     "end_time": "2025-08-15T22:14:03.749731Z",
     "start_time": "2025-08-15T22:14:03.735364Z"
    }
   },
   "cell_type": "code",
   "source": [
    "batch_size = 64\n",
    "\n",
    "train_dataloader = DataLoader(training_data, batch_size=batch_size)\n",
    "test_dataloader = DataLoader(test_data, batch_size=batch_size)\n",
    "\n",
    "for X, y in test_dataloader:\n",
    "    print(f\"Shape of X [N, C, H, W]: {X.shape}\")\n",
    "    print(f\"Shape of y: {y.shape} {y.dtype}\")\n",
    "    break"
   ],
   "id": "1660622dc83d3df9",
   "outputs": [
    {
     "name": "stdout",
     "output_type": "stream",
     "text": [
      "Shape of X [N, C, H, W]: torch.Size([64, 1, 28, 28])\n",
      "Shape of y: torch.Size([64]) torch.int64\n"
     ]
    }
   ],
   "execution_count": 21
  },
  {
   "metadata": {
    "ExecuteTime": {
     "end_time": "2025-08-15T22:14:03.762750Z",
     "start_time": "2025-08-15T22:14:03.753518Z"
    }
   },
   "cell_type": "code",
   "source": [
    "device = torch.accelerator.current_accelerator().type if torch.accelerator.is_available() else 'cpu'\n",
    "print(f\"Using {device} device\")\n",
    "\n",
    "class NeuralNetwork(nn.Module):\n",
    "    def __init__(self):\n",
    "        super().__init__()\n",
    "        self.flatten = nn.Flatten()\n",
    "        self.linear_relu_stack = nn.Sequential(\n",
    "            nn.Linear(28 * 28, 512),\n",
    "            nn.ReLU(),\n",
    "            nn.Linear(512, 512),\n",
    "            nn.ReLU(),\n",
    "            nn.Linear(512, 10),\n",
    "        )\n",
    "\n",
    "    def forward(self, x):\n",
    "        x = self.flatten(x)\n",
    "        logits = self.linear_relu_stack(x)\n",
    "        return logits\n",
    "\n",
    "model = NeuralNetwork().to(device)\n",
    "print(model)"
   ],
   "id": "22a273b40d37f9d9",
   "outputs": [
    {
     "name": "stdout",
     "output_type": "stream",
     "text": [
      "Using cuda device\n",
      "NeuralNetwork(\n",
      "  (flatten): Flatten(start_dim=1, end_dim=-1)\n",
      "  (linear_relu_stack): Sequential(\n",
      "    (0): Linear(in_features=784, out_features=512, bias=True)\n",
      "    (1): ReLU()\n",
      "    (2): Linear(in_features=512, out_features=512, bias=True)\n",
      "    (3): ReLU()\n",
      "    (4): Linear(in_features=512, out_features=10, bias=True)\n",
      "  )\n",
      ")\n"
     ]
    }
   ],
   "execution_count": 22
  },
  {
   "metadata": {
    "ExecuteTime": {
     "end_time": "2025-08-15T22:14:03.770126Z",
     "start_time": "2025-08-15T22:14:03.766749Z"
    }
   },
   "cell_type": "code",
   "source": [
    "loss_fn = nn.CrossEntropyLoss()\n",
    "optimizer = torch.optim.SGD(model.parameters(), lr=1e-3)"
   ],
   "id": "61c3e4ec07052703",
   "outputs": [],
   "execution_count": 23
  },
  {
   "metadata": {
    "ExecuteTime": {
     "end_time": "2025-08-15T22:14:03.782704Z",
     "start_time": "2025-08-15T22:14:03.770126Z"
    }
   },
   "cell_type": "code",
   "source": [
    "def train(dataloader, model, loss_fn, optimizer):\n",
    "    size = len(dataloader.dataset)\n",
    "    model.train()\n",
    "    for batch, (X, y) in enumerate(dataloader):\n",
    "        X, y = X.to(device), y.to(device)\n",
    "\n",
    "        # Compute prediction error\n",
    "        pred = model(X)\n",
    "        loss = loss_fn(pred, y)\n",
    "\n",
    "        # Backpropagation\n",
    "        loss.backward()\n",
    "        optimizer.step()\n",
    "        optimizer.zero_grad()\n",
    "\n",
    "        if batch % 100 == 0:\n",
    "            loss, current = loss.item(), (batch + 1) * len(X)\n",
    "            print(f\"loss: {loss:>7f}  [{current:>5d}/{size:>5d}]\")"
   ],
   "id": "9a3e72f38983020",
   "outputs": [],
   "execution_count": 24
  },
  {
   "metadata": {
    "ExecuteTime": {
     "end_time": "2025-08-15T22:14:03.792031Z",
     "start_time": "2025-08-15T22:14:03.784683Z"
    }
   },
   "cell_type": "code",
   "source": [
    "def test(dataloader, model, loss_fn):\n",
    "    size = len(dataloader.dataset)\n",
    "    num_batches = len(dataloader)\n",
    "    model.eval()\n",
    "    test_loss, correct = 0, 0\n",
    "    with torch.no_grad():\n",
    "        for X, y in dataloader:\n",
    "            X, y = X.to(device), y.to(device)\n",
    "            pred = model(X)\n",
    "            test_loss += loss_fn(pred, y).item()\n",
    "            correct += (pred.argmax(1) == y).type(torch.float).sum().item()\n",
    "    test_loss /= num_batches\n",
    "    correct /= size\n",
    "    print(f\"Test Error: \\n Accuracy: {(100 * correct):>0.1f} %, Avg loss: {test_loss:>8f} \\n\")"
   ],
   "id": "9a2a4dfb29a97ad7",
   "outputs": [],
   "execution_count": 25
  },
  {
   "metadata": {
    "ExecuteTime": {
     "end_time": "2025-08-15T22:14:24.319943Z",
     "start_time": "2025-08-15T22:14:03.792031Z"
    }
   },
   "cell_type": "code",
   "source": [
    "epochs = 5\n",
    "for t in range(epochs):\n",
    "    print(f\"Epoch {t+1}\\n-------------------------------\")\n",
    "    train(train_dataloader, model, loss_fn, optimizer)\n",
    "    test(test_dataloader, model, loss_fn)\n",
    "print(\"Done!\")"
   ],
   "id": "a696a2b525e40504",
   "outputs": [
    {
     "name": "stdout",
     "output_type": "stream",
     "text": [
      "Epoch 1\n",
      "-------------------------------\n",
      "loss: 2.298074  [   64/60000]\n",
      "loss: 2.288081  [ 6464/60000]\n",
      "loss: 2.266252  [12864/60000]\n",
      "loss: 2.260753  [19264/60000]\n",
      "loss: 2.255691  [25664/60000]\n",
      "loss: 2.216325  [32064/60000]\n",
      "loss: 2.231131  [38464/60000]\n",
      "loss: 2.196523  [44864/60000]\n",
      "loss: 2.185874  [51264/60000]\n",
      "loss: 2.159683  [57664/60000]\n",
      "Test Error: \n",
      " Accuracy: 37.8 %, Avg loss: 2.148389 \n",
      "\n",
      "Epoch 2\n",
      "-------------------------------\n",
      "loss: 2.160323  [   64/60000]\n",
      "loss: 2.151812  [ 6464/60000]\n",
      "loss: 2.089766  [12864/60000]\n",
      "loss: 2.100957  [19264/60000]\n",
      "loss: 2.068222  [25664/60000]\n",
      "loss: 1.992263  [32064/60000]\n",
      "loss: 2.030694  [38464/60000]\n",
      "loss: 1.948626  [44864/60000]\n",
      "loss: 1.946836  [51264/60000]\n",
      "loss: 1.881486  [57664/60000]\n",
      "Test Error: \n",
      " Accuracy: 59.2 %, Avg loss: 1.870585 \n",
      "\n",
      "Epoch 3\n",
      "-------------------------------\n",
      "loss: 1.907561  [   64/60000]\n",
      "loss: 1.876930  [ 6464/60000]\n",
      "loss: 1.754310  [12864/60000]\n",
      "loss: 1.790115  [19264/60000]\n",
      "loss: 1.696776  [25664/60000]\n",
      "loss: 1.637740  [32064/60000]\n",
      "loss: 1.665304  [38464/60000]\n",
      "loss: 1.561771  [44864/60000]\n",
      "loss: 1.583285  [51264/60000]\n",
      "loss: 1.484423  [57664/60000]\n",
      "Test Error: \n",
      " Accuracy: 60.7 %, Avg loss: 1.493893 \n",
      "\n",
      "Epoch 4\n",
      "-------------------------------\n",
      "loss: 1.565681  [   64/60000]\n",
      "loss: 1.530159  [ 6464/60000]\n",
      "loss: 1.375047  [12864/60000]\n",
      "loss: 1.447395  [19264/60000]\n",
      "loss: 1.339220  [25664/60000]\n",
      "loss: 1.327085  [32064/60000]\n",
      "loss: 1.346773  [38464/60000]\n",
      "loss: 1.268273  [44864/60000]\n",
      "loss: 1.304314  [51264/60000]\n",
      "loss: 1.210367  [57664/60000]\n",
      "Test Error: \n",
      " Accuracy: 62.8 %, Avg loss: 1.230905 \n",
      "\n",
      "Epoch 5\n",
      "-------------------------------\n",
      "loss: 1.313655  [   64/60000]\n",
      "loss: 1.293751  [ 6464/60000]\n",
      "loss: 1.123984  [12864/60000]\n",
      "loss: 1.232557  [19264/60000]\n",
      "loss: 1.117832  [25664/60000]\n",
      "loss: 1.133430  [32064/60000]\n",
      "loss: 1.159679  [38464/60000]\n",
      "loss: 1.093776  [44864/60000]\n",
      "loss: 1.136736  [51264/60000]\n",
      "loss: 1.057860  [57664/60000]\n",
      "Test Error: \n",
      " Accuracy: 64.8 %, Avg loss: 1.072511 \n",
      "\n",
      "Done!\n"
     ]
    }
   ],
   "execution_count": 26
  },
  {
   "metadata": {
    "ExecuteTime": {
     "end_time": "2025-08-15T22:14:24.337144Z",
     "start_time": "2025-08-15T22:14:24.330770Z"
    }
   },
   "cell_type": "code",
   "source": [
    "torch.save(model.state_dict(), \"model.pth\")\n",
    "print(\"Saved PyTorch Model State to model.pth\")"
   ],
   "id": "726124a79c3927ee",
   "outputs": [
    {
     "name": "stdout",
     "output_type": "stream",
     "text": [
      "Saved PyTorch Model State to model.pth\n"
     ]
    }
   ],
   "execution_count": 27
  },
  {
   "metadata": {
    "ExecuteTime": {
     "end_time": "2025-08-15T22:14:56.133899Z",
     "start_time": "2025-08-15T22:14:56.116545Z"
    }
   },
   "cell_type": "code",
   "source": [
    "model = NeuralNetwork().to(device)\n",
    "model.load_state_dict(torch.load(\"model.pth\", weights_only=True))"
   ],
   "id": "53a025c961bc0c0f",
   "outputs": [
    {
     "data": {
      "text/plain": [
       "<All keys matched successfully>"
      ]
     },
     "execution_count": 29,
     "metadata": {},
     "output_type": "execute_result"
    }
   ],
   "execution_count": 29
  },
  {
   "metadata": {
    "ExecuteTime": {
     "end_time": "2025-08-15T22:15:37.349328Z",
     "start_time": "2025-08-15T22:15:37.335361Z"
    }
   },
   "cell_type": "code",
   "source": [
    "classes = [\n",
    "    \"T-shirt/top\",\n",
    "    \"Trouser\",\n",
    "    \"Pullover\",\n",
    "    \"Dress\",\n",
    "    \"Coat\",\n",
    "    \"Sandal\",\n",
    "    \"Shirt\",\n",
    "    \"Sneaker\",\n",
    "    \"Bag\",\n",
    "    \"Ankle boot\",\n",
    "]\n",
    "\n",
    "model.eval()\n",
    "x, y = test_data[0][0], test_data[0][1]\n",
    "with torch.no_grad():\n",
    "    x = x.to(device)\n",
    "    pred = model(x)\n",
    "    predicted, actual = classes[pred[0].argmax(0)], classes[y]\n",
    "    print(f\"Predicted: {predicted}, Actual: {actual}\")"
   ],
   "id": "e5825eccd2f1c63",
   "outputs": [
    {
     "name": "stdout",
     "output_type": "stream",
     "text": [
      "Predicted: Ankle boot, Actual: Ankle boot\n"
     ]
    }
   ],
   "execution_count": 32
  }
 ],
 "metadata": {
  "kernelspec": {
   "display_name": "Python 3",
   "language": "python",
   "name": "python3"
  },
  "language_info": {
   "codemirror_mode": {
    "name": "ipython",
    "version": 2
   },
   "file_extension": ".py",
   "mimetype": "text/x-python",
   "name": "python",
   "nbconvert_exporter": "python",
   "pygments_lexer": "ipython2",
   "version": "2.7.6"
  }
 },
 "nbformat": 4,
 "nbformat_minor": 5
}
