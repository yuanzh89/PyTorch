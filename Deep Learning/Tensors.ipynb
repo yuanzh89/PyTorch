{
 "cells": [
  {
   "cell_type": "code",
   "id": "initial_id",
   "metadata": {
    "collapsed": true,
    "ExecuteTime": {
     "end_time": "2025-09-04T21:37:35.404071Z",
     "start_time": "2025-09-04T21:37:35.402055Z"
    }
   },
   "source": [
    "import torch\n",
    "import numpy as np"
   ],
   "outputs": [],
   "execution_count": 21
  },
  {
   "metadata": {
    "ExecuteTime": {
     "end_time": "2025-09-04T21:37:35.415344Z",
     "start_time": "2025-09-04T21:37:35.413131Z"
    }
   },
   "cell_type": "code",
   "source": [
    "data = [[1, 2], [3, 4]]\n",
    "x_data = torch.tensor(data)"
   ],
   "id": "c6eeb05f962186f0",
   "outputs": [],
   "execution_count": 22
  },
  {
   "metadata": {
    "ExecuteTime": {
     "end_time": "2025-09-04T21:37:35.423685Z",
     "start_time": "2025-09-04T21:37:35.417743Z"
    }
   },
   "cell_type": "code",
   "source": [
    "np_array = np.array(data)\n",
    "x_np = torch.from_numpy(np_array)"
   ],
   "id": "7878276279ea536",
   "outputs": [],
   "execution_count": 23
  },
  {
   "metadata": {
    "ExecuteTime": {
     "end_time": "2025-09-04T21:37:35.433555Z",
     "start_time": "2025-09-04T21:37:35.427526Z"
    }
   },
   "cell_type": "code",
   "source": [
    "# Retain the properties of x_data (shape, datatype)\n",
    "x_ones = torch.ones_like(x_data)\n",
    "print(f\"Ones tensor: {x_ones}\")\n",
    "\n",
    "# Overrides the datatype of x_data\n",
    "x_rand = torch.rand_like(x_data, dtype=torch.float)\n",
    "print(f\"Random tensor: {x_rand}\")"
   ],
   "id": "be9bf5b34c627bdd",
   "outputs": [
    {
     "name": "stdout",
     "output_type": "stream",
     "text": [
      "Ones tensor: tensor([[1, 1],\n",
      "        [1, 1]])\n",
      "Random tensor: tensor([[0.5660, 0.4910],\n",
      "        [0.4131, 0.4895]])\n"
     ]
    }
   ],
   "execution_count": 24
  },
  {
   "metadata": {
    "ExecuteTime": {
     "end_time": "2025-09-04T21:37:35.442681Z",
     "start_time": "2025-09-04T21:37:35.439424Z"
    }
   },
   "cell_type": "code",
   "source": [
    "shape = (2, 3,)\n",
    "rand_tensor = torch.rand(shape)\n",
    "ones_tensor = torch.ones(shape)\n",
    "zeros_tensor = torch.zeros(shape)\n",
    "\n",
    "print(f\"Random tensor: {rand_tensor}\")\n",
    "print(f\"Ones tensor: {ones_tensor}\")\n",
    "print(f\"Zeros tensor: {zeros_tensor}\")"
   ],
   "id": "f78d68d63b315a09",
   "outputs": [
    {
     "name": "stdout",
     "output_type": "stream",
     "text": [
      "Random tensor: tensor([[0.6315, 0.8528, 0.2140],\n",
      "        [0.5032, 0.2052, 0.8073]])\n",
      "Ones tensor: tensor([[1., 1., 1.],\n",
      "        [1., 1., 1.]])\n",
      "Zeros tensor: tensor([[0., 0., 0.],\n",
      "        [0., 0., 0.]])\n"
     ]
    }
   ],
   "execution_count": 25
  },
  {
   "metadata": {
    "ExecuteTime": {
     "end_time": "2025-09-04T21:37:35.459774Z",
     "start_time": "2025-09-04T21:37:35.457324Z"
    }
   },
   "cell_type": "code",
   "source": [
    "tensor = torch.rand(3, 4)\n",
    "\n",
    "print(f\"Shape of tensor: {tensor.shape}\")\n",
    "print(f\"Datatype of tensor: {tensor.dtype}\")\n",
    "print(f\"Device tensor is stored on: {tensor.device}\")"
   ],
   "id": "571f918dcac14603",
   "outputs": [
    {
     "name": "stdout",
     "output_type": "stream",
     "text": [
      "Shape of tensor: torch.Size([3, 4])\n",
      "Datatype of tensor: torch.float32\n",
      "Device tensor is stored on: cpu\n"
     ]
    }
   ],
   "execution_count": 26
  },
  {
   "metadata": {
    "ExecuteTime": {
     "end_time": "2025-09-04T21:37:35.471543Z",
     "start_time": "2025-09-04T21:37:35.468837Z"
    }
   },
   "cell_type": "code",
   "source": [
    "# Move tensor to GPU if available\n",
    "if torch.cuda.is_available():\n",
    "    tensor = tensor.to('cuda')\n",
    "    print(f\"Device tensor is stored on: {tensor.device}\")"
   ],
   "id": "36d3fd818cbd940e",
   "outputs": [
    {
     "name": "stdout",
     "output_type": "stream",
     "text": [
      "Device tensor is stored on: cuda:0\n"
     ]
    }
   ],
   "execution_count": 27
  },
  {
   "metadata": {
    "ExecuteTime": {
     "end_time": "2025-09-04T21:37:35.485551Z",
     "start_time": "2025-09-04T21:37:35.480127Z"
    }
   },
   "cell_type": "code",
   "source": [
    "tensor = torch.ones(4, 4)\n",
    "tensor[:,1] = 0\n",
    "print(tensor)"
   ],
   "id": "5131fc9d13562a23",
   "outputs": [
    {
     "name": "stdout",
     "output_type": "stream",
     "text": [
      "tensor([[1., 0., 1., 1.],\n",
      "        [1., 0., 1., 1.],\n",
      "        [1., 0., 1., 1.],\n",
      "        [1., 0., 1., 1.]])\n"
     ]
    }
   ],
   "execution_count": 28
  },
  {
   "metadata": {
    "ExecuteTime": {
     "end_time": "2025-09-04T21:37:35.495885Z",
     "start_time": "2025-09-04T21:37:35.492758Z"
    }
   },
   "cell_type": "code",
   "source": [
    "t1 = torch.cat([tensor, tensor, tensor], dim=1)\n",
    "print(t1)"
   ],
   "id": "f4fb413aeb65890a",
   "outputs": [
    {
     "name": "stdout",
     "output_type": "stream",
     "text": [
      "tensor([[1., 0., 1., 1., 1., 0., 1., 1., 1., 0., 1., 1.],\n",
      "        [1., 0., 1., 1., 1., 0., 1., 1., 1., 0., 1., 1.],\n",
      "        [1., 0., 1., 1., 1., 0., 1., 1., 1., 0., 1., 1.],\n",
      "        [1., 0., 1., 1., 1., 0., 1., 1., 1., 0., 1., 1.]])\n"
     ]
    }
   ],
   "execution_count": 29
  },
  {
   "metadata": {
    "ExecuteTime": {
     "end_time": "2025-09-04T21:37:35.505736Z",
     "start_time": "2025-09-04T21:37:35.502796Z"
    }
   },
   "cell_type": "code",
   "source": [
    "# Element wise product\n",
    "print(f\"{tensor.mul(tensor)=}\")\n",
    "\n",
    "# Alternative syntax\n",
    "print(f\"{tensor * tensor=}\")"
   ],
   "id": "8ba0559dd759eac5",
   "outputs": [
    {
     "name": "stdout",
     "output_type": "stream",
     "text": [
      "tensor.mul(tensor)=tensor([[1., 0., 1., 1.],\n",
      "        [1., 0., 1., 1.],\n",
      "        [1., 0., 1., 1.],\n",
      "        [1., 0., 1., 1.]])\n",
      "tensor * tensor=tensor([[1., 0., 1., 1.],\n",
      "        [1., 0., 1., 1.],\n",
      "        [1., 0., 1., 1.],\n",
      "        [1., 0., 1., 1.]])\n"
     ]
    }
   ],
   "execution_count": 30
  },
  {
   "metadata": {
    "ExecuteTime": {
     "end_time": "2025-09-04T21:37:35.525459Z",
     "start_time": "2025-09-04T21:37:35.521599Z"
    }
   },
   "cell_type": "code",
   "source": [
    "# Matrix multiplication between two tensors\n",
    "print(f\"{tensor.matmul(tensor.T)=}\")\n",
    "# Alternative syntax\n",
    "print(f\"{tensor @ tensor.T=}\")"
   ],
   "id": "ab8fcb42042eb2bc",
   "outputs": [
    {
     "name": "stdout",
     "output_type": "stream",
     "text": [
      "tensor.matmul(tensor.T)=tensor([[3., 3., 3., 3.],\n",
      "        [3., 3., 3., 3.],\n",
      "        [3., 3., 3., 3.],\n",
      "        [3., 3., 3., 3.]])\n",
      "tensor @ tensor.T=tensor([[3., 3., 3., 3.],\n",
      "        [3., 3., 3., 3.],\n",
      "        [3., 3., 3., 3.],\n",
      "        [3., 3., 3., 3.]])\n"
     ]
    }
   ],
   "execution_count": 31
  },
  {
   "metadata": {
    "ExecuteTime": {
     "end_time": "2025-09-04T21:37:35.535872Z",
     "start_time": "2025-09-04T21:37:35.532808Z"
    }
   },
   "cell_type": "code",
   "source": [
    "print(tensor)\n",
    "tensor.add_(5)\n",
    "print(tensor)"
   ],
   "id": "5a647ad394ca0176",
   "outputs": [
    {
     "name": "stdout",
     "output_type": "stream",
     "text": [
      "tensor([[1., 0., 1., 1.],\n",
      "        [1., 0., 1., 1.],\n",
      "        [1., 0., 1., 1.],\n",
      "        [1., 0., 1., 1.]])\n",
      "tensor([[6., 5., 6., 6.],\n",
      "        [6., 5., 6., 6.],\n",
      "        [6., 5., 6., 6.],\n",
      "        [6., 5., 6., 6.]])\n"
     ]
    }
   ],
   "execution_count": 32
  },
  {
   "metadata": {
    "ExecuteTime": {
     "end_time": "2025-09-04T21:37:35.546757Z",
     "start_time": "2025-09-04T21:37:35.543486Z"
    }
   },
   "cell_type": "code",
   "source": [
    "t = torch.ones(5)\n",
    "print(f\"{t=}\")\n",
    "n = t.numpy()\n",
    "print(f\"{n=}\")"
   ],
   "id": "156cecd2256c72f7",
   "outputs": [
    {
     "name": "stdout",
     "output_type": "stream",
     "text": [
      "t=tensor([1., 1., 1., 1., 1.])\n",
      "n=array([1., 1., 1., 1., 1.], dtype=float32)\n"
     ]
    }
   ],
   "execution_count": 33
  },
  {
   "metadata": {
    "ExecuteTime": {
     "end_time": "2025-09-04T21:37:35.578305Z",
     "start_time": "2025-09-04T21:37:35.575171Z"
    }
   },
   "cell_type": "code",
   "source": [
    "t.add_(1)\n",
    "print(f\"{t=}\")\n",
    "print(f\"{n=}\")"
   ],
   "id": "1a54b9336456dd93",
   "outputs": [
    {
     "name": "stdout",
     "output_type": "stream",
     "text": [
      "t=tensor([2., 2., 2., 2., 2.])\n",
      "n=array([2., 2., 2., 2., 2.], dtype=float32)\n"
     ]
    }
   ],
   "execution_count": 34
  },
  {
   "metadata": {
    "ExecuteTime": {
     "end_time": "2025-09-04T21:37:35.594245Z",
     "start_time": "2025-09-04T21:37:35.592196Z"
    }
   },
   "cell_type": "code",
   "source": [
    "n = np.ones(5)\n",
    "t = torch.from_numpy(n)"
   ],
   "id": "89b801b44a20a037",
   "outputs": [],
   "execution_count": 35
  },
  {
   "metadata": {
    "ExecuteTime": {
     "end_time": "2025-09-04T21:37:35.614641Z",
     "start_time": "2025-09-04T21:37:35.611367Z"
    }
   },
   "cell_type": "code",
   "source": [
    "np.add(n, 1, out=n)\n",
    "print(f\"{t=}\")\n",
    "print(f\"{n=}\")"
   ],
   "id": "431b213d293a2b92",
   "outputs": [
    {
     "name": "stdout",
     "output_type": "stream",
     "text": [
      "t=tensor([2., 2., 2., 2., 2.], dtype=torch.float64)\n",
      "n=array([2., 2., 2., 2., 2.])\n"
     ]
    }
   ],
   "execution_count": 36
  }
 ],
 "metadata": {
  "kernelspec": {
   "display_name": "Python 3",
   "language": "python",
   "name": "python3"
  },
  "language_info": {
   "codemirror_mode": {
    "name": "ipython",
    "version": 2
   },
   "file_extension": ".py",
   "mimetype": "text/x-python",
   "name": "python",
   "nbconvert_exporter": "python",
   "pygments_lexer": "ipython2",
   "version": "2.7.6"
  }
 },
 "nbformat": 4,
 "nbformat_minor": 5
}
